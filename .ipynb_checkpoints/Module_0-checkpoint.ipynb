{
 "cells": [
  {
   "cell_type": "code",
   "execution_count": null,
   "metadata": {},
   "outputs": [],
   "source": [
    "# Функция по угадыванию случайного целого числа из указанного диапазона \n",
    "# Проверка эффективности функции (среднее количество попыток)\n",
    "\n",
    "import numpy as np\n",
    "range_start = 1     # начало диапазона для случайного числа\n",
    "range_end = 100     # конец диапазона для случайного числа\n",
    "\n",
    "def game_core(number):\n",
    "    '''Угадываем число number и выводим количество попыток'''\n",
    "    step = (range_end - range_start + 1) // 2 # шаг корректировки предполагаемого числа\n",
    "    count = 1       # счетчик количества попыток\n",
    "    predict = step  # предполагаемое число - в середине диапазона\n",
    "    \n",
    "    while number != predict:   # цикл выполняется, пока число не угадано\n",
    "        count += 1\n",
    "        if step // 2 == 0:     # уменьшаем шаг вдвое, \n",
    "            step = 1           # но шаг должен быть не меньше 1\n",
    "        else:\n",
    "            step = step // 2\n",
    "            \n",
    "        if number > predict:   # корректируем предполагаемое число на величину шага \n",
    "            predict += step \n",
    "        else:\n",
    "            predict -= step\n",
    "    \n",
    "    return (count)  # выход из цикла, если угадали\n",
    "\n",
    "\n",
    "def score_game(game_core):\n",
    "    '''Запускаем игру 1000 раз, чтоб узнать как быстро игра угадывает число'''\n",
    "    count_ls = []\n",
    "    np.random.seed(1)  # фиксируем RANDOM SEED, чтобы ваш эксперимент был воспроизводим!\n",
    "    random_array = np.random.randint(range_start, range_end, size=(1000))\n",
    "    \n",
    "    for number in random_array:     # составляем список количества попыток\n",
    "        count_ls.append(game_core(number))\n",
    "    score = int(np.mean(count_ls))  # среднее количество попыток\n",
    "    print(f\"Ваш алгоритм угадывает число в среднем за {score} попыток\")\n",
    "    return(score)\n",
    "\n",
    "score_game(game_core) "
   ]
  }
 ],
 "metadata": {
  "kernelspec": {
   "display_name": "Python 3",
   "language": "python",
   "name": "python3"
  },
  "language_info": {
   "codemirror_mode": {
    "name": "ipython",
    "version": 3
   },
   "file_extension": ".py",
   "mimetype": "text/x-python",
   "name": "python",
   "nbconvert_exporter": "python",
   "pygments_lexer": "ipython3",
   "version": "3.7.6"
  }
 },
 "nbformat": 4,
 "nbformat_minor": 4
}
